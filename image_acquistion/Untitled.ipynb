{
 "cells": [
  {
   "cell_type": "code",
   "execution_count": 1,
   "id": "38ccc477",
   "metadata": {},
   "outputs": [
    {
     "name": "stdout",
     "output_type": "stream",
     "text": [
      "Current working directory: D:\\VIMBAPYTHON\\VimbaPython\n",
      "Current Time = 12-33-15\n"
     ]
    }
   ],
   "source": [
    "\n",
    "import os\n",
    "from datetime import datetime\n",
    "\n",
    "### directory change##\n",
    "\n",
    "os.chdir('D:\\VIMBAPYTHON\\VimbaPython')\n",
    "print(\"Current working directory: {0}\".format(os.getcwd()))\n",
    "### current time in hour month second format\n",
    "#now = datetime.now()\n",
    "#current_time = now.strftime(\"%H:%M:%S\")\n",
    "\n",
    "now = datetime.now()\n",
    "current_time = now.strftime(\"%H-%M-%S\")\n",
    "\n",
    "print(\"Current Time =\", current_time)"
   ]
  },
  {
   "cell_type": "markdown",
   "id": "c4bed719",
   "metadata": {},
   "source": [
    "import time\n",
    "ts = time.time()\n",
    "st = datetime.fromtimestamp(ts).strftime('%d-%m-%Y_%H-%M-%S')"
   ]
  },
  {
   "cell_type": "code",
   "execution_count": 3,
   "id": "660fd413",
   "metadata": {},
   "outputs": [],
   "source": [
    "import cv2\n",
    "\n",
    "from vimba import *\n",
    "path='D:\\VIMBAPYTHON\\VimbaPython\\image_acquistion'\n",
    "\n",
    "\n",
    "\n",
    "with Vimba.get_instance() as vimba:\n",
    "    cams = vimba.get_all_cameras()\n",
    "    with cams[0] as cam:\n",
    "        frame = cam.get_frame()\n",
    "        frame.convert_pixel_format(PixelFormat.Bgr8)\n",
    "        \n",
    "        #cv2.imwrite((st+'.jpg'), frame.as_opencv_image())\n",
    "        \n",
    "        cv2.imwrite(os.path.join(path , 'frame'+ ' ' +current_time+'.png'), frame.as_opencv_image())\n",
    "        #cv2.imshow((\"frame_\"+current_time),frame.as_opencv_image())\n",
    "        #cv2.waitKey(0)\n",
    "        #cv2.destroyAllWindows()"
   ]
  },
  {
   "cell_type": "code",
   "execution_count": null,
   "id": "ef4f97a9",
   "metadata": {},
   "outputs": [],
   "source": []
  }
 ],
 "metadata": {
  "kernelspec": {
   "display_name": "Python 3",
   "language": "python",
   "name": "python3"
  },
  "language_info": {
   "codemirror_mode": {
    "name": "ipython",
    "version": 3
   },
   "file_extension": ".py",
   "mimetype": "text/x-python",
   "name": "python",
   "nbconvert_exporter": "python",
   "pygments_lexer": "ipython3",
   "version": "3.7.13"
  }
 },
 "nbformat": 4,
 "nbformat_minor": 5
}
